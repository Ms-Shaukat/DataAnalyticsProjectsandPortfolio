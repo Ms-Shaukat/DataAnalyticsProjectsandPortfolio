{
  "nbformat": 4,
  "nbformat_minor": 0,
  "metadata": {
    "colab": {
      "provenance": [],
      "authorship_tag": "ABX9TyNGR5M5PRObZEeJbvnF5Voi",
      "include_colab_link": true
    },
    "kernelspec": {
      "name": "python3",
      "display_name": "Python 3"
    },
    "language_info": {
      "name": "python"
    }
  },
  "cells": [
    {
      "cell_type": "markdown",
      "metadata": {
        "id": "view-in-github",
        "colab_type": "text"
      },
      "source": [
        "<a href=\"https://colab.research.google.com/github/Ms-Shaukat/DataAnalyticsProjectsandPortfolio/blob/main/DA_Green_Assignment2_Munazza_Shaukat_munazza_guide_gmail_com.ipynb\" target=\"_parent\"><img src=\"https://colab.research.google.com/assets/colab-badge.svg\" alt=\"Open In Colab\"/></a>"
      ]
    },
    {
      "cell_type": "markdown",
      "source": [
        "#  **Part 1** \n",
        "### **1.1 Data Loading**\n",
        "Task 1: Load the dataset food order.csv into a pandas DataFrame."
      ],
      "metadata": {
        "id": "RThHSYJ2oy8a"
      }
    },
    {
      "cell_type": "code",
      "source": [
        "#Uploading csv file into Colab\n",
        "from google.colab import files\n",
        "uploaded = files.upload()"
      ],
      "metadata": {
        "colab": {
          "base_uri": "https://localhost:8080/",
          "height": 73
        },
        "id": "HNXaY54GpmHb",
        "outputId": "451f41e0-ed55-4ba6-e168-ecd1f7920978"
      },
      "execution_count": 1,
      "outputs": [
        {
          "output_type": "display_data",
          "data": {
            "text/plain": [
              "<IPython.core.display.HTML object>"
            ],
            "text/html": [
              "\n",
              "     <input type=\"file\" id=\"files-97f0b0d1-c90d-442d-a5c1-0b5beb40c0b5\" name=\"files[]\" multiple disabled\n",
              "        style=\"border:none\" />\n",
              "     <output id=\"result-97f0b0d1-c90d-442d-a5c1-0b5beb40c0b5\">\n",
              "      Upload widget is only available when the cell has been executed in the\n",
              "      current browser session. Please rerun this cell to enable.\n",
              "      </output>\n",
              "      <script>// Copyright 2017 Google LLC\n",
              "//\n",
              "// Licensed under the Apache License, Version 2.0 (the \"License\");\n",
              "// you may not use this file except in compliance with the License.\n",
              "// You may obtain a copy of the License at\n",
              "//\n",
              "//      http://www.apache.org/licenses/LICENSE-2.0\n",
              "//\n",
              "// Unless required by applicable law or agreed to in writing, software\n",
              "// distributed under the License is distributed on an \"AS IS\" BASIS,\n",
              "// WITHOUT WARRANTIES OR CONDITIONS OF ANY KIND, either express or implied.\n",
              "// See the License for the specific language governing permissions and\n",
              "// limitations under the License.\n",
              "\n",
              "/**\n",
              " * @fileoverview Helpers for google.colab Python module.\n",
              " */\n",
              "(function(scope) {\n",
              "function span(text, styleAttributes = {}) {\n",
              "  const element = document.createElement('span');\n",
              "  element.textContent = text;\n",
              "  for (const key of Object.keys(styleAttributes)) {\n",
              "    element.style[key] = styleAttributes[key];\n",
              "  }\n",
              "  return element;\n",
              "}\n",
              "\n",
              "// Max number of bytes which will be uploaded at a time.\n",
              "const MAX_PAYLOAD_SIZE = 100 * 1024;\n",
              "\n",
              "function _uploadFiles(inputId, outputId) {\n",
              "  const steps = uploadFilesStep(inputId, outputId);\n",
              "  const outputElement = document.getElementById(outputId);\n",
              "  // Cache steps on the outputElement to make it available for the next call\n",
              "  // to uploadFilesContinue from Python.\n",
              "  outputElement.steps = steps;\n",
              "\n",
              "  return _uploadFilesContinue(outputId);\n",
              "}\n",
              "\n",
              "// This is roughly an async generator (not supported in the browser yet),\n",
              "// where there are multiple asynchronous steps and the Python side is going\n",
              "// to poll for completion of each step.\n",
              "// This uses a Promise to block the python side on completion of each step,\n",
              "// then passes the result of the previous step as the input to the next step.\n",
              "function _uploadFilesContinue(outputId) {\n",
              "  const outputElement = document.getElementById(outputId);\n",
              "  const steps = outputElement.steps;\n",
              "\n",
              "  const next = steps.next(outputElement.lastPromiseValue);\n",
              "  return Promise.resolve(next.value.promise).then((value) => {\n",
              "    // Cache the last promise value to make it available to the next\n",
              "    // step of the generator.\n",
              "    outputElement.lastPromiseValue = value;\n",
              "    return next.value.response;\n",
              "  });\n",
              "}\n",
              "\n",
              "/**\n",
              " * Generator function which is called between each async step of the upload\n",
              " * process.\n",
              " * @param {string} inputId Element ID of the input file picker element.\n",
              " * @param {string} outputId Element ID of the output display.\n",
              " * @return {!Iterable<!Object>} Iterable of next steps.\n",
              " */\n",
              "function* uploadFilesStep(inputId, outputId) {\n",
              "  const inputElement = document.getElementById(inputId);\n",
              "  inputElement.disabled = false;\n",
              "\n",
              "  const outputElement = document.getElementById(outputId);\n",
              "  outputElement.innerHTML = '';\n",
              "\n",
              "  const pickedPromise = new Promise((resolve) => {\n",
              "    inputElement.addEventListener('change', (e) => {\n",
              "      resolve(e.target.files);\n",
              "    });\n",
              "  });\n",
              "\n",
              "  const cancel = document.createElement('button');\n",
              "  inputElement.parentElement.appendChild(cancel);\n",
              "  cancel.textContent = 'Cancel upload';\n",
              "  const cancelPromise = new Promise((resolve) => {\n",
              "    cancel.onclick = () => {\n",
              "      resolve(null);\n",
              "    };\n",
              "  });\n",
              "\n",
              "  // Wait for the user to pick the files.\n",
              "  const files = yield {\n",
              "    promise: Promise.race([pickedPromise, cancelPromise]),\n",
              "    response: {\n",
              "      action: 'starting',\n",
              "    }\n",
              "  };\n",
              "\n",
              "  cancel.remove();\n",
              "\n",
              "  // Disable the input element since further picks are not allowed.\n",
              "  inputElement.disabled = true;\n",
              "\n",
              "  if (!files) {\n",
              "    return {\n",
              "      response: {\n",
              "        action: 'complete',\n",
              "      }\n",
              "    };\n",
              "  }\n",
              "\n",
              "  for (const file of files) {\n",
              "    const li = document.createElement('li');\n",
              "    li.append(span(file.name, {fontWeight: 'bold'}));\n",
              "    li.append(span(\n",
              "        `(${file.type || 'n/a'}) - ${file.size} bytes, ` +\n",
              "        `last modified: ${\n",
              "            file.lastModifiedDate ? file.lastModifiedDate.toLocaleDateString() :\n",
              "                                    'n/a'} - `));\n",
              "    const percent = span('0% done');\n",
              "    li.appendChild(percent);\n",
              "\n",
              "    outputElement.appendChild(li);\n",
              "\n",
              "    const fileDataPromise = new Promise((resolve) => {\n",
              "      const reader = new FileReader();\n",
              "      reader.onload = (e) => {\n",
              "        resolve(e.target.result);\n",
              "      };\n",
              "      reader.readAsArrayBuffer(file);\n",
              "    });\n",
              "    // Wait for the data to be ready.\n",
              "    let fileData = yield {\n",
              "      promise: fileDataPromise,\n",
              "      response: {\n",
              "        action: 'continue',\n",
              "      }\n",
              "    };\n",
              "\n",
              "    // Use a chunked sending to avoid message size limits. See b/62115660.\n",
              "    let position = 0;\n",
              "    do {\n",
              "      const length = Math.min(fileData.byteLength - position, MAX_PAYLOAD_SIZE);\n",
              "      const chunk = new Uint8Array(fileData, position, length);\n",
              "      position += length;\n",
              "\n",
              "      const base64 = btoa(String.fromCharCode.apply(null, chunk));\n",
              "      yield {\n",
              "        response: {\n",
              "          action: 'append',\n",
              "          file: file.name,\n",
              "          data: base64,\n",
              "        },\n",
              "      };\n",
              "\n",
              "      let percentDone = fileData.byteLength === 0 ?\n",
              "          100 :\n",
              "          Math.round((position / fileData.byteLength) * 100);\n",
              "      percent.textContent = `${percentDone}% done`;\n",
              "\n",
              "    } while (position < fileData.byteLength);\n",
              "  }\n",
              "\n",
              "  // All done.\n",
              "  yield {\n",
              "    response: {\n",
              "      action: 'complete',\n",
              "    }\n",
              "  };\n",
              "}\n",
              "\n",
              "scope.google = scope.google || {};\n",
              "scope.google.colab = scope.google.colab || {};\n",
              "scope.google.colab._files = {\n",
              "  _uploadFiles,\n",
              "  _uploadFilesContinue,\n",
              "};\n",
              "})(self);\n",
              "</script> "
            ]
          },
          "metadata": {}
        },
        {
          "output_type": "stream",
          "name": "stdout",
          "text": [
            "Saving food_order.csv to food_order.csv\n"
          ]
        }
      ]
    },
    {
      "cell_type": "code",
      "source": [
        "import pandas as pds\n",
        "# Load the CSV dataset into a pandas DataFrame\n",
        "dfs = pds.read_csv(\"food_order.csv\")"
      ],
      "metadata": {
        "id": "eoMvDIJfqvRF"
      },
      "execution_count": 2,
      "outputs": []
    },
    {
      "cell_type": "markdown",
      "source": [
        "Task 2: Display the first 10 rows of your dataset"
      ],
      "metadata": {
        "id": "QfCPDVv5r29t"
      }
    },
    {
      "cell_type": "code",
      "source": [
        "# Display the first 10 rows of the dataset\n",
        "print(dfs.head(10))"
      ],
      "metadata": {
        "colab": {
          "base_uri": "https://localhost:8080/"
        },
        "id": "ppr4DByyr_Tt",
        "outputId": "fe3b2115-6ff1-47a0-e2f4-0532f66210dd"
      },
      "execution_count": 3,
      "outputs": [
        {
          "output_type": "stream",
          "name": "stdout",
          "text": [
            "   order_id  customer_id            restaurant_name   cuisine_type  \\\n",
            "0   1477147       337525                    Hangawi         Korean   \n",
            "1   1477685       358141  Blue Ribbon Sushi Izakaya       Japanese   \n",
            "2   1477070        66393                Cafe Habana        Mexican   \n",
            "3   1477334       106968  Blue Ribbon Fried Chicken       American   \n",
            "4   1478249        76942           Dirty Bird to Go       American   \n",
            "5   1477224       147468           Tamarind TriBeCa         Indian   \n",
            "6   1477894       157711          The Meatball Shop        Italian   \n",
            "7   1477859        89574                  Barbounia  Mediterranean   \n",
            "8   1477174       121706         Anjappar Chettinad         Indian   \n",
            "9   1477311        39705              Bukhara Grill         Indian   \n",
            "\n",
            "   cost_of_the_order day_of_the_week     rating  food_preparation_time  \\\n",
            "0              30.75         Weekend  Not given                     25   \n",
            "1              12.08         Weekend  Not given                     25   \n",
            "2              12.23         Weekday          5                     23   \n",
            "3              29.20         Weekend          3                     25   \n",
            "4              11.59         Weekday          4                     25   \n",
            "5              25.22         Weekday          3                     20   \n",
            "6               6.07         Weekend  Not given                     28   \n",
            "7               5.97         Weekday          3                     33   \n",
            "8              16.44         Weekday          5                     21   \n",
            "9               7.18         Weekday          5                     29   \n",
            "\n",
            "   delivery_time  \n",
            "0             20  \n",
            "1             23  \n",
            "2             28  \n",
            "3             15  \n",
            "4             24  \n",
            "5             24  \n",
            "6             21  \n",
            "7             30  \n",
            "8             26  \n",
            "9             26  \n"
          ]
        }
      ]
    },
    {
      "cell_type": "markdown",
      "source": [
        "### **1.2 Data Description**\n",
        "Task 3: Identify the data types for each feature"
      ],
      "metadata": {
        "id": "fO2I3M2psXUf"
      }
    },
    {
      "cell_type": "code",
      "source": [
        "# Identifying the data types\n",
        "data_types = dfs.dtypes\n",
        "print(\"Data Types:\")\n",
        "print(data_types)"
      ],
      "metadata": {
        "colab": {
          "base_uri": "https://localhost:8080/"
        },
        "id": "NrGxB8v4sv19",
        "outputId": "f4d5e6a1-0eac-4cdf-8193-7b40ea937770"
      },
      "execution_count": 4,
      "outputs": [
        {
          "output_type": "stream",
          "name": "stdout",
          "text": [
            "Data Types:\n",
            "order_id                   int64\n",
            "customer_id                int64\n",
            "restaurant_name           object\n",
            "cuisine_type              object\n",
            "cost_of_the_order        float64\n",
            "day_of_the_week           object\n",
            "rating                    object\n",
            "food_preparation_time      int64\n",
            "delivery_time              int64\n",
            "dtype: object\n"
          ]
        }
      ]
    },
    {
      "cell_type": "markdown",
      "source": [
        "Task 4: Write a function that calculates the *null rate* for each column."
      ],
      "metadata": {
        "id": "mUQl_QQOueUM"
      }
    },
    {
      "cell_type": "code",
      "source": [
        "# Declaring funtions for Identifying Null\n",
        "def calculate_null_rate(var_dfs1):\n",
        "    null_count = var_dfs1.isnull().sum()\n",
        "    null_rate = null_count / len(var_dfs1) * 100\n",
        "    return null_rate\n",
        "\n",
        "#Call function\n",
        "null_rate = calculate_null_rate(dfs)\n",
        "print(\"Null Rate:\")\n",
        "print(null_rate)\n"
      ],
      "metadata": {
        "colab": {
          "base_uri": "https://localhost:8080/"
        },
        "id": "S-A5odiAvUVq",
        "outputId": "d9d166de-b57c-4de5-d620-d741e4d8d8ee"
      },
      "execution_count": 13,
      "outputs": [
        {
          "output_type": "stream",
          "name": "stdout",
          "text": [
            "Null Rate:\n",
            "order_id                 0.0\n",
            "customer_id              0.0\n",
            "restaurant_name          0.0\n",
            "cuisine_type             0.0\n",
            "cost_of_the_order        0.0\n",
            "day_of_the_week          0.0\n",
            "rating                   0.0\n",
            "food_preparation_time    0.0\n",
            "delivery_time            0.0\n",
            "dtype: float64\n"
          ]
        }
      ]
    },
    {
      "cell_type": "markdown",
      "source": [
        "Task 5: Identify the number of unique values for each column."
      ],
      "metadata": {
        "id": "GRa984axEKk3"
      }
    },
    {
      "cell_type": "code",
      "source": [
        "# unique values for each column\n",
        "unique_values = dfs.nunique()\n",
        "print(\"Number of Unique Values:\")\n",
        "print(unique_values)"
      ],
      "metadata": {
        "colab": {
          "base_uri": "https://localhost:8080/"
        },
        "id": "i-wn9h4dx7BX",
        "outputId": "61ae82ea-bb03-4369-df7e-26de89bea6a3"
      },
      "execution_count": 8,
      "outputs": [
        {
          "output_type": "stream",
          "name": "stdout",
          "text": [
            "Number of Unique Values:\n",
            "order_id                 1898\n",
            "customer_id              1200\n",
            "restaurant_name           178\n",
            "cuisine_type               14\n",
            "cost_of_the_order         312\n",
            "day_of_the_week             2\n",
            "rating                      4\n",
            "food_preparation_time      16\n",
            "delivery_time              19\n",
            "dtype: int64\n"
          ]
        }
      ]
    },
    {
      "cell_type": "markdown",
      "source": [
        "### **1.3 Data Manipulation**\n",
        "Task 6: Add one column, total time"
      ],
      "metadata": {
        "id": "k7_1kbB2Faqf"
      }
    },
    {
      "cell_type": "code",
      "source": [
        "# Calculate total time, both columns (food_preparation_time,delivery_time) are in minutes hence the derived total column is in minutes\n",
        "dfs['total_time_minutes'] = dfs['food_preparation_time'] + dfs['delivery_time'] \n",
        "print(dfs.head(10))"
      ],
      "metadata": {
        "id": "o58oS_DzGH-0"
      },
      "execution_count": null,
      "outputs": []
    },
    {
      "cell_type": "markdown",
      "source": [
        "### **1.4 Satistics**\n",
        "Task 7: Identify the different cusine types."
      ],
      "metadata": {
        "id": "8r0AWypEIYgW"
      }
    },
    {
      "cell_type": "code",
      "source": [
        "# There are two ways to identify cuisine type: method 1 is returning first whole row sortby Cuisine type, so I comment Method 1\n",
        "#gj= dfs.groupby('cuisine_type')\n",
        "#print(gj.first())\n",
        "\n",
        "# method 2 displays Only cuisine type column\n",
        "\n",
        "cuisine_types = dfs['cuisine_type'].unique()\n",
        "print(\"Different cuisine types\")\n",
        "print(cuisine_types)"
      ],
      "metadata": {
        "colab": {
          "base_uri": "https://localhost:8080/"
        },
        "id": "Rhyc7xAyIY8i",
        "outputId": "80bb872e-24fd-43b0-d240-50ce67002efa"
      },
      "execution_count": 15,
      "outputs": [
        {
          "output_type": "stream",
          "name": "stdout",
          "text": [
            "Different cuisine types\n",
            "['Korean' 'Japanese' 'Mexican' 'American' 'Indian' 'Italian'\n",
            " 'Mediterranean' 'Chinese' 'Middle Eastern' 'Thai' 'Southern' 'French'\n",
            " 'Spanish' 'Vietnamese']\n"
          ]
        }
      ]
    },
    {
      "cell_type": "markdown",
      "source": [
        "Task 8: Find the number of restaurants per cuisine type."
      ],
      "metadata": {
        "id": "rx-kSuoKREst"
      }
    },
    {
      "cell_type": "code",
      "source": [
        "restaurantCount = dfs.groupby('cuisine_type')[\"restaurant_name\"].count()\n",
        "print(\"No. of restaurants per cuisine type\")\n",
        "print(restaurantCount)"
      ],
      "metadata": {
        "colab": {
          "base_uri": "https://localhost:8080/"
        },
        "id": "Bdg-xXreRE_Z",
        "outputId": "f9bd7a6f-96e5-491b-ff15-a2e0b0e150fc"
      },
      "execution_count": 16,
      "outputs": [
        {
          "output_type": "stream",
          "name": "stdout",
          "text": [
            "No. of restaurants per cuisine type\n",
            "cuisine_type\n",
            "American          584\n",
            "Chinese           215\n",
            "French             18\n",
            "Indian             73\n",
            "Italian           298\n",
            "Japanese          470\n",
            "Korean             13\n",
            "Mediterranean      46\n",
            "Mexican            77\n",
            "Middle Eastern     49\n",
            "Southern           17\n",
            "Spanish            12\n",
            "Thai               19\n",
            "Vietnamese          7\n",
            "Name: restaurant_name, dtype: int64\n"
          ]
        }
      ]
    }
  ]
}