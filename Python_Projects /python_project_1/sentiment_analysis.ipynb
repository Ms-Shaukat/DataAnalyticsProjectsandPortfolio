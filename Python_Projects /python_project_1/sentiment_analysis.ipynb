{
  "nbformat": 4,
  "nbformat_minor": 0,
  "metadata": {
    "colab": {
      "provenance": [],
      "authorship_tag": "ABX9TyMwpPcW/CIiUDCN2Czab71P",
      "include_colab_link": true
    },
    "kernelspec": {
      "name": "python3",
      "display_name": "Python 3"
    },
    "language_info": {
      "name": "python"
    }
  },
  "cells": [
    {
      "cell_type": "markdown",
      "metadata": {
        "id": "view-in-github",
        "colab_type": "text"
      },
      "source": [
        "<a href=\"https://colab.research.google.com/github/Ms-Shaukat/DataAnalyticsProjectsandPortfolio/blob/main/Python_Projects%20/python_project_1/sentiment_analysis.ipynb\" target=\"_parent\"><img src=\"https://colab.research.google.com/assets/colab-badge.svg\" alt=\"Open In Colab\"/></a>"
      ]
    },
    {
      "cell_type": "markdown",
      "source": [
        "### **Sentiment Analysis**\n",
        "---\n",
        "This project is about sentimemtal anlysis by using the dataset tweets.csv "
      ],
      "metadata": {
        "id": "fYaXOE4SvIT3"
      }
    },
    {
      "cell_type": "code",
      "source": [
        "#Uploading csv file into Colab\n",
        "from google.colab import files\n",
        "uploaded = files.upload()\n"
      ],
      "metadata": {
        "id": "LNS5OBldvkqd",
        "outputId": "c95ddeac-a91a-49ae-f06d-e11cd814119b",
        "colab": {
          "base_uri": "https://localhost:8080/",
          "height": 73
        }
      },
      "execution_count": null,
      "outputs": [
        {
          "output_type": "display_data",
          "data": {
            "text/plain": [
              "<IPython.core.display.HTML object>"
            ],
            "text/html": [
              "\n",
              "     <input type=\"file\" id=\"files-e5c3ce24-efaa-4e5b-857e-6e18802d77f9\" name=\"files[]\" multiple disabled\n",
              "        style=\"border:none\" />\n",
              "     <output id=\"result-e5c3ce24-efaa-4e5b-857e-6e18802d77f9\">\n",
              "      Upload widget is only available when the cell has been executed in the\n",
              "      current browser session. Please rerun this cell to enable.\n",
              "      </output>\n",
              "      <script>// Copyright 2017 Google LLC\n",
              "//\n",
              "// Licensed under the Apache License, Version 2.0 (the \"License\");\n",
              "// you may not use this file except in compliance with the License.\n",
              "// You may obtain a copy of the License at\n",
              "//\n",
              "//      http://www.apache.org/licenses/LICENSE-2.0\n",
              "//\n",
              "// Unless required by applicable law or agreed to in writing, software\n",
              "// distributed under the License is distributed on an \"AS IS\" BASIS,\n",
              "// WITHOUT WARRANTIES OR CONDITIONS OF ANY KIND, either express or implied.\n",
              "// See the License for the specific language governing permissions and\n",
              "// limitations under the License.\n",
              "\n",
              "/**\n",
              " * @fileoverview Helpers for google.colab Python module.\n",
              " */\n",
              "(function(scope) {\n",
              "function span(text, styleAttributes = {}) {\n",
              "  const element = document.createElement('span');\n",
              "  element.textContent = text;\n",
              "  for (const key of Object.keys(styleAttributes)) {\n",
              "    element.style[key] = styleAttributes[key];\n",
              "  }\n",
              "  return element;\n",
              "}\n",
              "\n",
              "// Max number of bytes which will be uploaded at a time.\n",
              "const MAX_PAYLOAD_SIZE = 100 * 1024;\n",
              "\n",
              "function _uploadFiles(inputId, outputId) {\n",
              "  const steps = uploadFilesStep(inputId, outputId);\n",
              "  const outputElement = document.getElementById(outputId);\n",
              "  // Cache steps on the outputElement to make it available for the next call\n",
              "  // to uploadFilesContinue from Python.\n",
              "  outputElement.steps = steps;\n",
              "\n",
              "  return _uploadFilesContinue(outputId);\n",
              "}\n",
              "\n",
              "// This is roughly an async generator (not supported in the browser yet),\n",
              "// where there are multiple asynchronous steps and the Python side is going\n",
              "// to poll for completion of each step.\n",
              "// This uses a Promise to block the python side on completion of each step,\n",
              "// then passes the result of the previous step as the input to the next step.\n",
              "function _uploadFilesContinue(outputId) {\n",
              "  const outputElement = document.getElementById(outputId);\n",
              "  const steps = outputElement.steps;\n",
              "\n",
              "  const next = steps.next(outputElement.lastPromiseValue);\n",
              "  return Promise.resolve(next.value.promise).then((value) => {\n",
              "    // Cache the last promise value to make it available to the next\n",
              "    // step of the generator.\n",
              "    outputElement.lastPromiseValue = value;\n",
              "    return next.value.response;\n",
              "  });\n",
              "}\n",
              "\n",
              "/**\n",
              " * Generator function which is called between each async step of the upload\n",
              " * process.\n",
              " * @param {string} inputId Element ID of the input file picker element.\n",
              " * @param {string} outputId Element ID of the output display.\n",
              " * @return {!Iterable<!Object>} Iterable of next steps.\n",
              " */\n",
              "function* uploadFilesStep(inputId, outputId) {\n",
              "  const inputElement = document.getElementById(inputId);\n",
              "  inputElement.disabled = false;\n",
              "\n",
              "  const outputElement = document.getElementById(outputId);\n",
              "  outputElement.innerHTML = '';\n",
              "\n",
              "  const pickedPromise = new Promise((resolve) => {\n",
              "    inputElement.addEventListener('change', (e) => {\n",
              "      resolve(e.target.files);\n",
              "    });\n",
              "  });\n",
              "\n",
              "  const cancel = document.createElement('button');\n",
              "  inputElement.parentElement.appendChild(cancel);\n",
              "  cancel.textContent = 'Cancel upload';\n",
              "  const cancelPromise = new Promise((resolve) => {\n",
              "    cancel.onclick = () => {\n",
              "      resolve(null);\n",
              "    };\n",
              "  });\n",
              "\n",
              "  // Wait for the user to pick the files.\n",
              "  const files = yield {\n",
              "    promise: Promise.race([pickedPromise, cancelPromise]),\n",
              "    response: {\n",
              "      action: 'starting',\n",
              "    }\n",
              "  };\n",
              "\n",
              "  cancel.remove();\n",
              "\n",
              "  // Disable the input element since further picks are not allowed.\n",
              "  inputElement.disabled = true;\n",
              "\n",
              "  if (!files) {\n",
              "    return {\n",
              "      response: {\n",
              "        action: 'complete',\n",
              "      }\n",
              "    };\n",
              "  }\n",
              "\n",
              "  for (const file of files) {\n",
              "    const li = document.createElement('li');\n",
              "    li.append(span(file.name, {fontWeight: 'bold'}));\n",
              "    li.append(span(\n",
              "        `(${file.type || 'n/a'}) - ${file.size} bytes, ` +\n",
              "        `last modified: ${\n",
              "            file.lastModifiedDate ? file.lastModifiedDate.toLocaleDateString() :\n",
              "                                    'n/a'} - `));\n",
              "    const percent = span('0% done');\n",
              "    li.appendChild(percent);\n",
              "\n",
              "    outputElement.appendChild(li);\n",
              "\n",
              "    const fileDataPromise = new Promise((resolve) => {\n",
              "      const reader = new FileReader();\n",
              "      reader.onload = (e) => {\n",
              "        resolve(e.target.result);\n",
              "      };\n",
              "      reader.readAsArrayBuffer(file);\n",
              "    });\n",
              "    // Wait for the data to be ready.\n",
              "    let fileData = yield {\n",
              "      promise: fileDataPromise,\n",
              "      response: {\n",
              "        action: 'continue',\n",
              "      }\n",
              "    };\n",
              "\n",
              "    // Use a chunked sending to avoid message size limits. See b/62115660.\n",
              "    let position = 0;\n",
              "    do {\n",
              "      const length = Math.min(fileData.byteLength - position, MAX_PAYLOAD_SIZE);\n",
              "      const chunk = new Uint8Array(fileData, position, length);\n",
              "      position += length;\n",
              "\n",
              "      const base64 = btoa(String.fromCharCode.apply(null, chunk));\n",
              "      yield {\n",
              "        response: {\n",
              "          action: 'append',\n",
              "          file: file.name,\n",
              "          data: base64,\n",
              "        },\n",
              "      };\n",
              "\n",
              "      let percentDone = fileData.byteLength === 0 ?\n",
              "          100 :\n",
              "          Math.round((position / fileData.byteLength) * 100);\n",
              "      percent.textContent = `${percentDone}% done`;\n",
              "\n",
              "    } while (position < fileData.byteLength);\n",
              "  }\n",
              "\n",
              "  // All done.\n",
              "  yield {\n",
              "    response: {\n",
              "      action: 'complete',\n",
              "    }\n",
              "  };\n",
              "}\n",
              "\n",
              "scope.google = scope.google || {};\n",
              "scope.google.colab = scope.google.colab || {};\n",
              "scope.google.colab._files = {\n",
              "  _uploadFiles,\n",
              "  _uploadFilesContinue,\n",
              "};\n",
              "})(self);\n",
              "</script> "
            ]
          },
          "metadata": {}
        },
        {
          "output_type": "stream",
          "name": "stdout",
          "text": [
            "Saving tweets.csv to tweets.csv\n"
          ]
        }
      ]
    },
    {
      "cell_type": "code",
      "source": [
        "import pandas as pds\n",
        "# Load the CSV dataset into a pandas DataFrame\n",
        "df = pds.read_csv(\"tweets.csv\")"
      ],
      "metadata": {
        "id": "USHyIQlavSbk"
      },
      "execution_count": null,
      "outputs": []
    },
    {
      "cell_type": "markdown",
      "source": [
        "Import different Libraries to perform different word analysis functionality and cleansing \n",
        "\n"
      ],
      "metadata": {
        "id": "gHe46rJzdvur"
      }
    },
    {
      "cell_type": "code",
      "source": [
        "#decalring the other libraries\n",
        "import seaborn as sns\n",
        "import re                                       # Import the re library for regular expressions\n",
        "from textblob import TextBlob                    # Import TextBlob for text processing\n",
        "import string                                   # Import the string library for handling punctuation\n",
        "from nltk.corpus import stopwords               # Import NLTK's stopwords for removing common words\n",
        "from nltk.tokenize import word_tokenize         # Import NLTK's word_tokenize for tokenizing words\n",
        "from nltk.stem import WordNetLemmatizer          # Import NLTK's WordNetLemmatizer for lemmatizing words\n",
        "from collections import Counter\n",
        "\n",
        "import nltk\n",
        "nltk.download('punkt')\n",
        "\n",
        "from nltk import word_tokenize,sent_tokenize\n",
        "nltk.download('wordnet')"
      ],
      "metadata": {
        "id": "oofag1A7wQW7",
        "outputId": "e894d4ec-0ca2-4170-ab56-26ac59c33e06",
        "colab": {
          "base_uri": "https://localhost:8080/"
        }
      },
      "execution_count": null,
      "outputs": [
        {
          "output_type": "stream",
          "name": "stderr",
          "text": [
            "[nltk_data] Downloading package punkt to /root/nltk_data...\n",
            "[nltk_data]   Package punkt is already up-to-date!\n",
            "[nltk_data] Downloading package wordnet to /root/nltk_data...\n",
            "[nltk_data]   Package wordnet is already up-to-date!\n"
          ]
        },
        {
          "output_type": "execute_result",
          "data": {
            "text/plain": [
              "True"
            ]
          },
          "metadata": {},
          "execution_count": 52
        }
      ]
    },
    {
      "cell_type": "markdown",
      "source": [
        "**List of task to perform Data cleaning including removals of URL, Emojis, stopwords, mentions, Hashtags, and punctuation signs.**"
      ],
      "metadata": {
        "id": "oNwF9R_3x3pv"
      }
    },
    {
      "cell_type": "code",
      "source": [
        "# remove urls\n",
        "df['tweet_cleaned'] = df['Tweets'].apply(lambda text: re.sub(\"https?:\\/\\/[a-z0-9-]+(?:\\.[a-z0-9-]+)+[/?#]\\S*\", \"\", text))\n",
        "print(df.head(5))"
      ],
      "metadata": {
        "id": "3MpMIsY6yCZf",
        "outputId": "329a028c-5213-4e3f-f64d-50e0d5de8584",
        "colab": {
          "base_uri": "https://localhost:8080/"
        }
      },
      "execution_count": null,
      "outputs": [
        {
          "output_type": "stream",
          "name": "stdout",
          "text": [
            "                                             Tweets  Retweets   Likes  \\\n",
            "0                             @PeterSchiff 🤣 thanks       209    7021   \n",
            "1                             @ZubyMusic Absolutely       755   26737   \n",
            "2  Dear Twitter Advertisers https://t.co/GMwHmInPAS     55927  356623   \n",
            "3                                       @BillyM2k 👻       802   19353   \n",
            "4    Meeting a lot of cool people at Twitter today!      9366  195546   \n",
            "\n",
            "                  Date                                   tweet_cleaned  \\\n",
            "0  2022-10-27 16:17:39                           @PeterSchiff 🤣 thanks   \n",
            "1  2022-10-27 13:19:25                           @ZubyMusic Absolutely   \n",
            "2  2022-10-27 13:08:00                       Dear Twitter Advertisers    \n",
            "3  2022-10-27 02:32:48                                     @BillyM2k 👻   \n",
            "4  2022-10-26 21:39:32  Meeting a lot of cool people at Twitter today!   \n",
            "\n",
            "   Polarity  \n",
            "0      0.20  \n",
            "1      0.20  \n",
            "2      0.00  \n",
            "3      0.00  \n",
            "4      0.35  \n"
          ]
        }
      ]
    },
    {
      "cell_type": "code",
      "source": [
        "from nltk.corpus import stopwords\n",
        "nltk.download(\"stopwords\")\n",
        "stop_words = set(stopwords.words(\"english\"))\n",
        "\n",
        "df['tweet_cleaned'] = df['tweet_cleaned'].apply(lambda text: \" \".join([word for word in text.split() if word not in stop_words]))\n",
        "print(df.head(5)) #Stopwords removals result\n"
      ],
      "metadata": {
        "id": "A2vBfg090fDt",
        "outputId": "eb8652b2-679a-4ed5-f536-a5f5cafbde51",
        "colab": {
          "base_uri": "https://localhost:8080/"
        }
      },
      "execution_count": null,
      "outputs": [
        {
          "output_type": "stream",
          "name": "stdout",
          "text": [
            "                                             Tweets  Retweets   Likes  \\\n",
            "0                             @PeterSchiff 🤣 thanks       209    7021   \n",
            "1                             @ZubyMusic Absolutely       755   26737   \n",
            "2  Dear Twitter Advertisers https://t.co/GMwHmInPAS     55927  356623   \n",
            "3                                       @BillyM2k 👻       802   19353   \n",
            "4    Meeting a lot of cool people at Twitter today!      9366  195546   \n",
            "\n",
            "                  Date                           tweet_cleaned  Polarity  \n",
            "0  2022-10-27 16:17:39                   @PeterSchiff 🤣 thanks      0.20  \n",
            "1  2022-10-27 13:19:25                   @ZubyMusic Absolutely      0.20  \n",
            "2  2022-10-27 13:08:00                Dear Twitter Advertisers      0.00  \n",
            "3  2022-10-27 02:32:48                             @BillyM2k 👻      0.00  \n",
            "4  2022-10-26 21:39:32  Meeting lot cool people Twitter today!      0.35  \n"
          ]
        },
        {
          "output_type": "stream",
          "name": "stderr",
          "text": [
            "[nltk_data] Downloading package stopwords to /root/nltk_data...\n",
            "[nltk_data]   Package stopwords is already up-to-date!\n"
          ]
        }
      ]
    },
    {
      "cell_type": "code",
      "source": [
        "df['tweet_cleaned'] = df['tweet_cleaned'].apply(lambda text: re.sub(\"@\\S+\", \"\", text))\n",
        "print(df.head(5)) #mentions removals result"
      ],
      "metadata": {
        "id": "ZcxYlTxh0lQN",
        "colab": {
          "base_uri": "https://localhost:8080/"
        },
        "outputId": "8cbcc897-e9cc-49f8-b91c-f8362e5a1784"
      },
      "execution_count": null,
      "outputs": [
        {
          "output_type": "stream",
          "name": "stdout",
          "text": [
            "                                             Tweets  Retweets   Likes  \\\n",
            "0                             @PeterSchiff 🤣 thanks       209    7021   \n",
            "1                             @ZubyMusic Absolutely       755   26737   \n",
            "2  Dear Twitter Advertisers https://t.co/GMwHmInPAS     55927  356623   \n",
            "3                                       @BillyM2k 👻       802   19353   \n",
            "4    Meeting a lot of cool people at Twitter today!      9366  195546   \n",
            "\n",
            "                  Date                           tweet_cleaned  Polarity  \n",
            "0  2022-10-27 16:17:39                                🤣 thanks      0.20  \n",
            "1  2022-10-27 13:19:25                              Absolutely      0.20  \n",
            "2  2022-10-27 13:08:00                Dear Twitter Advertisers      0.00  \n",
            "3  2022-10-27 02:32:48                                       👻      0.00  \n",
            "4  2022-10-26 21:39:32  Meeting lot cool people Twitter today!      0.35  \n"
          ]
        }
      ]
    },
    {
      "cell_type": "code",
      "source": [
        "df['tweet_cleaned'] = df['tweet_cleaned'].apply(lambda text: re.sub(\"#\", \"\", text))\n",
        "print(df.head(5)) ##hashtags removals result"
      ],
      "metadata": {
        "id": "ccAEUKJ_0n0G",
        "colab": {
          "base_uri": "https://localhost:8080/"
        },
        "outputId": "55f299c8-66b9-4626-cba6-febdc02f8ef1"
      },
      "execution_count": null,
      "outputs": [
        {
          "output_type": "stream",
          "name": "stdout",
          "text": [
            "                                             Tweets  Retweets   Likes  \\\n",
            "0                             @PeterSchiff 🤣 thanks       209    7021   \n",
            "1                             @ZubyMusic Absolutely       755   26737   \n",
            "2  Dear Twitter Advertisers https://t.co/GMwHmInPAS     55927  356623   \n",
            "3                                       @BillyM2k 👻       802   19353   \n",
            "4    Meeting a lot of cool people at Twitter today!      9366  195546   \n",
            "\n",
            "                  Date                           tweet_cleaned  Polarity  \n",
            "0  2022-10-27 16:17:39                                🤣 thanks      0.20  \n",
            "1  2022-10-27 13:19:25                              Absolutely      0.20  \n",
            "2  2022-10-27 13:08:00                Dear Twitter Advertisers      0.00  \n",
            "3  2022-10-27 02:32:48                                       👻      0.00  \n",
            "4  2022-10-26 21:39:32  Meeting lot cool people Twitter today!      0.35  \n"
          ]
        }
      ]
    },
    {
      "cell_type": "code",
      "source": [
        "import string\n",
        "df['tweet_cleaned'] = df['tweet_cleaned'].apply(lambda text: text.translate(str.maketrans('', '', string.punctuation)))\n",
        "print(df.head(5))#puntuation signs removals result"
      ],
      "metadata": {
        "id": "cGOhRTxg0rLy",
        "colab": {
          "base_uri": "https://localhost:8080/"
        },
        "outputId": "48ba8a52-f83d-4495-fbe3-16c1b79a2771"
      },
      "execution_count": null,
      "outputs": [
        {
          "output_type": "stream",
          "name": "stdout",
          "text": [
            "                                             Tweets  Retweets   Likes  \\\n",
            "0                             @PeterSchiff 🤣 thanks       209    7021   \n",
            "1                             @ZubyMusic Absolutely       755   26737   \n",
            "2  Dear Twitter Advertisers https://t.co/GMwHmInPAS     55927  356623   \n",
            "3                                       @BillyM2k 👻       802   19353   \n",
            "4    Meeting a lot of cool people at Twitter today!      9366  195546   \n",
            "\n",
            "                  Date                          tweet_cleaned  Polarity  \n",
            "0  2022-10-27 16:17:39                               🤣 thanks      0.20  \n",
            "1  2022-10-27 13:19:25                             Absolutely      0.20  \n",
            "2  2022-10-27 13:08:00               Dear Twitter Advertisers      0.00  \n",
            "3  2022-10-27 02:32:48                                      👻      0.00  \n",
            "4  2022-10-26 21:39:32  Meeting lot cool people Twitter today      0.35  \n"
          ]
        }
      ]
    },
    {
      "cell_type": "code",
      "source": [
        "df['tweet_cleaned'] = df['tweet_cleaned'].apply(lambda text: re.sub(r'\\bRT\\b', '', text))\n",
        "print(df.head(5)) #RT removals result"
      ],
      "metadata": {
        "id": "3D3GB59i0uLy",
        "colab": {
          "base_uri": "https://localhost:8080/"
        },
        "outputId": "6acd1d07-9981-4d1f-c356-12bf503327be"
      },
      "execution_count": null,
      "outputs": [
        {
          "output_type": "stream",
          "name": "stdout",
          "text": [
            "                                             Tweets  Retweets   Likes  \\\n",
            "0                             @PeterSchiff 🤣 thanks       209    7021   \n",
            "1                             @ZubyMusic Absolutely       755   26737   \n",
            "2  Dear Twitter Advertisers https://t.co/GMwHmInPAS     55927  356623   \n",
            "3                                       @BillyM2k 👻       802   19353   \n",
            "4    Meeting a lot of cool people at Twitter today!      9366  195546   \n",
            "\n",
            "                  Date                          tweet_cleaned  Polarity  \n",
            "0  2022-10-27 16:17:39                               🤣 thanks      0.20  \n",
            "1  2022-10-27 13:19:25                             Absolutely      0.20  \n",
            "2  2022-10-27 13:08:00               Dear Twitter Advertisers      0.00  \n",
            "3  2022-10-27 02:32:48                                      👻      0.00  \n",
            "4  2022-10-26 21:39:32  Meeting lot cool people Twitter today      0.35  \n"
          ]
        }
      ]
    },
    {
      "cell_type": "code",
      "source": [
        "df['tweet_cleaned'] = df['tweet_cleaned'].apply(lambda text: ''.join(i for i in text if i <= '\\uFFFF'))\n",
        "print(df.head())#Emojis removals result"
      ],
      "metadata": {
        "id": "yXBdsxa00wul",
        "outputId": "45a6cf32-3050-41a3-de26-5f8aeb281f83",
        "colab": {
          "base_uri": "https://localhost:8080/"
        }
      },
      "execution_count": null,
      "outputs": [
        {
          "output_type": "stream",
          "name": "stdout",
          "text": [
            "                                             Tweets  Retweets   Likes  \\\n",
            "0                             @PeterSchiff 🤣 thanks       209    7021   \n",
            "1                             @ZubyMusic Absolutely       755   26737   \n",
            "2  Dear Twitter Advertisers https://t.co/GMwHmInPAS     55927  356623   \n",
            "3                                       @BillyM2k 👻       802   19353   \n",
            "4    Meeting a lot of cool people at Twitter today!      9366  195546   \n",
            "\n",
            "                  Date                          tweet_cleaned  Polarity  \n",
            "0  2022-10-27 16:17:39                                 thanks      0.20  \n",
            "1  2022-10-27 13:19:25                             Absolutely      0.20  \n",
            "2  2022-10-27 13:08:00               Dear Twitter Advertisers      0.00  \n",
            "3  2022-10-27 02:32:48                                             0.00  \n",
            "4  2022-10-26 21:39:32  Meeting lot cool people Twitter today      0.35  \n"
          ]
        }
      ]
    },
    {
      "cell_type": "code",
      "source": [
        "df['tweet_cleaned'] = df['tweet_cleaned'].str.strip()\n",
        "print(df.head(5)) #whitespace triming result"
      ],
      "metadata": {
        "id": "tsQ_19Qo0zSL",
        "outputId": "659999ec-795e-4656-bce4-54aa263cd6c8",
        "colab": {
          "base_uri": "https://localhost:8080/"
        }
      },
      "execution_count": null,
      "outputs": [
        {
          "output_type": "stream",
          "name": "stdout",
          "text": [
            "                                             Tweets  Retweets   Likes  \\\n",
            "0                             @PeterSchiff 🤣 thanks       209    7021   \n",
            "1                             @ZubyMusic Absolutely       755   26737   \n",
            "2  Dear Twitter Advertisers https://t.co/GMwHmInPAS     55927  356623   \n",
            "3                                       @BillyM2k 👻       802   19353   \n",
            "4    Meeting a lot of cool people at Twitter today!      9366  195546   \n",
            "\n",
            "                  Date                          tweet_cleaned  Polarity  \n",
            "0  2022-10-27 16:17:39                                 thanks      0.20  \n",
            "1  2022-10-27 13:19:25                             Absolutely      0.20  \n",
            "2  2022-10-27 13:08:00               Dear Twitter Advertisers      0.00  \n",
            "3  2022-10-27 02:32:48                                             0.00  \n",
            "4  2022-10-26 21:39:32  Meeting lot cool people Twitter today      0.35  \n"
          ]
        }
      ]
    },
    {
      "cell_type": "code",
      "source": [
        "lemmatizer = WordNetLemmatizer()\n",
        "df['tweet_cleaned'] = df['tweet_cleaned'].apply(lambda x: ' '.join([lemmatizer.lemmatize(word) for word in word_tokenize(x)]))\n"
      ],
      "metadata": {
        "id": "Ul1KbEdS02Dv"
      },
      "execution_count": null,
      "outputs": []
    },
    {
      "cell_type": "code",
      "source": [
        "df['tweet_cleaned'] = df['tweet_cleaned'] \n",
        "print(df.head(5))\n",
        "#I already stored everything inside this new column and updating it on every step. I didn't create function as it'll the reptetion of cide"
      ],
      "metadata": {
        "id": "2c6SKxVG06DE",
        "colab": {
          "base_uri": "https://localhost:8080/"
        },
        "outputId": "3b35dffe-53ee-4b3d-d4a6-1dbde46e950d"
      },
      "execution_count": null,
      "outputs": [
        {
          "output_type": "stream",
          "name": "stdout",
          "text": [
            "                                             Tweets  Retweets   Likes  \\\n",
            "0                             @PeterSchiff 🤣 thanks       209    7021   \n",
            "1                             @ZubyMusic Absolutely       755   26737   \n",
            "2  Dear Twitter Advertisers https://t.co/GMwHmInPAS     55927  356623   \n",
            "3                                       @BillyM2k 👻       802   19353   \n",
            "4    Meeting a lot of cool people at Twitter today!      9366  195546   \n",
            "\n",
            "                  Date                          tweet_cleaned  Polarity  \n",
            "0  2022-10-27 16:17:39                                 thanks      0.20  \n",
            "1  2022-10-27 13:19:25                             Absolutely      0.20  \n",
            "2  2022-10-27 13:08:00               Dear Twitter Advertisers      0.00  \n",
            "3  2022-10-27 02:32:48                                             0.00  \n",
            "4  2022-10-26 21:39:32  Meeting lot cool people Twitter today      0.35  \n"
          ]
        }
      ]
    },
    {
      "cell_type": "markdown",
      "source": [
        "## Analyze tweet whether it's Positive or Negative\n",
        "First Calculate Polarity"
      ],
      "metadata": {
        "id": "tYVvxhgP78kO"
      }
    },
    {
      "cell_type": "code",
      "source": [
        "from textblob import TextBlob\n",
        "\n",
        "# Create a function to get the polarity\n",
        "def getPolarity (twt):\n",
        "  return TextBlob(twt).sentiment.polarity\n",
        "\n",
        "# Create a new column to save the results of the created function\n",
        "df['Polarity'] = df['tweet_cleaned'].apply(getPolarity)\n",
        "print(df.head())"
      ],
      "metadata": {
        "colab": {
          "base_uri": "https://localhost:8080/"
        },
        "id": "1T3OrdVB0z_Q",
        "outputId": "362b59a7-4316-4f45-f226-e2ab93201efa"
      },
      "execution_count": null,
      "outputs": [
        {
          "output_type": "stream",
          "name": "stdout",
          "text": [
            "                                             Tweets  Retweets   Likes  \\\n",
            "0                             @PeterSchiff 🤣 thanks       209    7021   \n",
            "1                             @ZubyMusic Absolutely       755   26737   \n",
            "2  Dear Twitter Advertisers https://t.co/GMwHmInPAS     55927  356623   \n",
            "3                                       @BillyM2k 👻       802   19353   \n",
            "4    Meeting a lot of cool people at Twitter today!      9366  195546   \n",
            "\n",
            "                  Date                          tweet_cleaned  Polarity  \n",
            "0  2022-10-27 16:17:39                                 thanks      0.20  \n",
            "1  2022-10-27 13:19:25                             Absolutely      0.20  \n",
            "2  2022-10-27 13:08:00               Dear Twitter Advertisers      0.00  \n",
            "3  2022-10-27 02:32:48                                             0.00  \n",
            "4  2022-10-26 21:39:32  Meeting lot cool people Twitter today      0.35  \n"
          ]
        }
      ]
    },
    {
      "cell_type": "markdown",
      "source": [
        "Add a column sentiment to the dataframe. If the polarity is > 0, the sentiment is positive. If it is < 0, the sentiment is negative. Else, the sentiment is neutral. "
      ],
      "metadata": {
        "id": "hm5VLtpo-Yn4"
      }
    },
    {
      "cell_type": "code",
      "source": [
        "# Create a function to find a polarity values to sentiment column\n",
        "\n",
        "def get_sentiment(polarity):\n",
        "    if polarity > 0:\n",
        "        return 'positive'\n",
        "    elif polarity < 0:\n",
        "        return 'negative'\n",
        "    else:\n",
        "        return 'neutral'\n",
        "\n",
        "# Apply the function to create a 'sentiment' column \n",
        "df['sentiment'] = df['Polarity'].apply(get_sentiment)\n",
        "\n",
        "# Display the first 5 rows of the updated dataframe\n",
        "df.head(5)"
      ],
      "metadata": {
        "colab": {
          "base_uri": "https://localhost:8080/",
          "height": 206
        },
        "id": "xPw5ypDh-Y81",
        "outputId": "7484d64e-7521-405f-9b0b-9c55ddcdbd54"
      },
      "execution_count": null,
      "outputs": [
        {
          "output_type": "execute_result",
          "data": {
            "text/plain": [
              "                                             Tweets  Retweets   Likes  \\\n",
              "0                             @PeterSchiff 🤣 thanks       209    7021   \n",
              "1                             @ZubyMusic Absolutely       755   26737   \n",
              "2  Dear Twitter Advertisers https://t.co/GMwHmInPAS     55927  356623   \n",
              "3                                       @BillyM2k 👻       802   19353   \n",
              "4    Meeting a lot of cool people at Twitter today!      9366  195546   \n",
              "\n",
              "                  Date                          tweet_cleaned  Polarity  \\\n",
              "0  2022-10-27 16:17:39                                 thanks      0.20   \n",
              "1  2022-10-27 13:19:25                             Absolutely      0.20   \n",
              "2  2022-10-27 13:08:00               Dear Twitter Advertisers      0.00   \n",
              "3  2022-10-27 02:32:48                                             0.00   \n",
              "4  2022-10-26 21:39:32  Meeting lot cool people Twitter today      0.35   \n",
              "\n",
              "  sentiment  \n",
              "0  positive  \n",
              "1  positive  \n",
              "2   neutral  \n",
              "3   neutral  \n",
              "4  positive  "
            ],
            "text/html": [
              "\n",
              "  <div id=\"df-7fe9f9f8-432d-40f4-9da3-99dfcd6832d8\">\n",
              "    <div class=\"colab-df-container\">\n",
              "      <div>\n",
              "<style scoped>\n",
              "    .dataframe tbody tr th:only-of-type {\n",
              "        vertical-align: middle;\n",
              "    }\n",
              "\n",
              "    .dataframe tbody tr th {\n",
              "        vertical-align: top;\n",
              "    }\n",
              "\n",
              "    .dataframe thead th {\n",
              "        text-align: right;\n",
              "    }\n",
              "</style>\n",
              "<table border=\"1\" class=\"dataframe\">\n",
              "  <thead>\n",
              "    <tr style=\"text-align: right;\">\n",
              "      <th></th>\n",
              "      <th>Tweets</th>\n",
              "      <th>Retweets</th>\n",
              "      <th>Likes</th>\n",
              "      <th>Date</th>\n",
              "      <th>tweet_cleaned</th>\n",
              "      <th>Polarity</th>\n",
              "      <th>sentiment</th>\n",
              "    </tr>\n",
              "  </thead>\n",
              "  <tbody>\n",
              "    <tr>\n",
              "      <th>0</th>\n",
              "      <td>@PeterSchiff 🤣 thanks</td>\n",
              "      <td>209</td>\n",
              "      <td>7021</td>\n",
              "      <td>2022-10-27 16:17:39</td>\n",
              "      <td>thanks</td>\n",
              "      <td>0.20</td>\n",
              "      <td>positive</td>\n",
              "    </tr>\n",
              "    <tr>\n",
              "      <th>1</th>\n",
              "      <td>@ZubyMusic Absolutely</td>\n",
              "      <td>755</td>\n",
              "      <td>26737</td>\n",
              "      <td>2022-10-27 13:19:25</td>\n",
              "      <td>Absolutely</td>\n",
              "      <td>0.20</td>\n",
              "      <td>positive</td>\n",
              "    </tr>\n",
              "    <tr>\n",
              "      <th>2</th>\n",
              "      <td>Dear Twitter Advertisers https://t.co/GMwHmInPAS</td>\n",
              "      <td>55927</td>\n",
              "      <td>356623</td>\n",
              "      <td>2022-10-27 13:08:00</td>\n",
              "      <td>Dear Twitter Advertisers</td>\n",
              "      <td>0.00</td>\n",
              "      <td>neutral</td>\n",
              "    </tr>\n",
              "    <tr>\n",
              "      <th>3</th>\n",
              "      <td>@BillyM2k 👻</td>\n",
              "      <td>802</td>\n",
              "      <td>19353</td>\n",
              "      <td>2022-10-27 02:32:48</td>\n",
              "      <td></td>\n",
              "      <td>0.00</td>\n",
              "      <td>neutral</td>\n",
              "    </tr>\n",
              "    <tr>\n",
              "      <th>4</th>\n",
              "      <td>Meeting a lot of cool people at Twitter today!</td>\n",
              "      <td>9366</td>\n",
              "      <td>195546</td>\n",
              "      <td>2022-10-26 21:39:32</td>\n",
              "      <td>Meeting lot cool people Twitter today</td>\n",
              "      <td>0.35</td>\n",
              "      <td>positive</td>\n",
              "    </tr>\n",
              "  </tbody>\n",
              "</table>\n",
              "</div>\n",
              "      <button class=\"colab-df-convert\" onclick=\"convertToInteractive('df-7fe9f9f8-432d-40f4-9da3-99dfcd6832d8')\"\n",
              "              title=\"Convert this dataframe to an interactive table.\"\n",
              "              style=\"display:none;\">\n",
              "        \n",
              "  <svg xmlns=\"http://www.w3.org/2000/svg\" height=\"24px\"viewBox=\"0 0 24 24\"\n",
              "       width=\"24px\">\n",
              "    <path d=\"M0 0h24v24H0V0z\" fill=\"none\"/>\n",
              "    <path d=\"M18.56 5.44l.94 2.06.94-2.06 2.06-.94-2.06-.94-.94-2.06-.94 2.06-2.06.94zm-11 1L8.5 8.5l.94-2.06 2.06-.94-2.06-.94L8.5 2.5l-.94 2.06-2.06.94zm10 10l.94 2.06.94-2.06 2.06-.94-2.06-.94-.94-2.06-.94 2.06-2.06.94z\"/><path d=\"M17.41 7.96l-1.37-1.37c-.4-.4-.92-.59-1.43-.59-.52 0-1.04.2-1.43.59L10.3 9.45l-7.72 7.72c-.78.78-.78 2.05 0 2.83L4 21.41c.39.39.9.59 1.41.59.51 0 1.02-.2 1.41-.59l7.78-7.78 2.81-2.81c.8-.78.8-2.07 0-2.86zM5.41 20L4 18.59l7.72-7.72 1.47 1.35L5.41 20z\"/>\n",
              "  </svg>\n",
              "      </button>\n",
              "      \n",
              "  <style>\n",
              "    .colab-df-container {\n",
              "      display:flex;\n",
              "      flex-wrap:wrap;\n",
              "      gap: 12px;\n",
              "    }\n",
              "\n",
              "    .colab-df-convert {\n",
              "      background-color: #E8F0FE;\n",
              "      border: none;\n",
              "      border-radius: 50%;\n",
              "      cursor: pointer;\n",
              "      display: none;\n",
              "      fill: #1967D2;\n",
              "      height: 32px;\n",
              "      padding: 0 0 0 0;\n",
              "      width: 32px;\n",
              "    }\n",
              "\n",
              "    .colab-df-convert:hover {\n",
              "      background-color: #E2EBFA;\n",
              "      box-shadow: 0px 1px 2px rgba(60, 64, 67, 0.3), 0px 1px 3px 1px rgba(60, 64, 67, 0.15);\n",
              "      fill: #174EA6;\n",
              "    }\n",
              "\n",
              "    [theme=dark] .colab-df-convert {\n",
              "      background-color: #3B4455;\n",
              "      fill: #D2E3FC;\n",
              "    }\n",
              "\n",
              "    [theme=dark] .colab-df-convert:hover {\n",
              "      background-color: #434B5C;\n",
              "      box-shadow: 0px 1px 3px 1px rgba(0, 0, 0, 0.15);\n",
              "      filter: drop-shadow(0px 1px 2px rgba(0, 0, 0, 0.3));\n",
              "      fill: #FFFFFF;\n",
              "    }\n",
              "  </style>\n",
              "\n",
              "      <script>\n",
              "        const buttonEl =\n",
              "          document.querySelector('#df-7fe9f9f8-432d-40f4-9da3-99dfcd6832d8 button.colab-df-convert');\n",
              "        buttonEl.style.display =\n",
              "          google.colab.kernel.accessAllowed ? 'block' : 'none';\n",
              "\n",
              "        async function convertToInteractive(key) {\n",
              "          const element = document.querySelector('#df-7fe9f9f8-432d-40f4-9da3-99dfcd6832d8');\n",
              "          const dataTable =\n",
              "            await google.colab.kernel.invokeFunction('convertToInteractive',\n",
              "                                                     [key], {});\n",
              "          if (!dataTable) return;\n",
              "\n",
              "          const docLinkHtml = 'Like what you see? Visit the ' +\n",
              "            '<a target=\"_blank\" href=https://colab.research.google.com/notebooks/data_table.ipynb>data table notebook</a>'\n",
              "            + ' to learn more about interactive tables.';\n",
              "          element.innerHTML = '';\n",
              "          dataTable['output_type'] = 'display_data';\n",
              "          await google.colab.output.renderOutput(dataTable, element);\n",
              "          const docLink = document.createElement('div');\n",
              "          docLink.innerHTML = docLinkHtml;\n",
              "          element.appendChild(docLink);\n",
              "        }\n",
              "      </script>\n",
              "    </div>\n",
              "  </div>\n",
              "  "
            ]
          },
          "metadata": {},
          "execution_count": 70
        }
      ]
    },
    {
      "cell_type": "markdown",
      "source": [
        "**Visual Representation **of how sentiment is distributed in the dataset?"
      ],
      "metadata": {
        "id": "ZMUbbELGB1_d"
      }
    },
    {
      "cell_type": "code",
      "source": [
        "# Get the sentiment value count\n",
        "sentiment_counts = df['sentiment'].value_counts()\n",
        "\n",
        "# Create a donut chart\n",
        "fig, ax = plt.subplots()\n",
        "ax.pie(sentiment_counts, labels=sentiment_counts.index, autopct='%1.1f%%', startangle=90, pctdistance=0.85, wedgeprops={'edgecolor': 'white'})\n",
        "center_circle = plt.Circle((0,0),0.70,fc='white')\n",
        "fig.gca().add_artist(center_circle)\n",
        "ax.set_title('Sentiment Distribution')\n",
        "\n",
        "plt.show()"
      ],
      "metadata": {
        "colab": {
          "base_uri": "https://localhost:8080/",
          "height": 428
        },
        "id": "RQX7wC8WB2U2",
        "outputId": "ad0b65a7-7c2b-4cdf-955f-905acd286d00"
      },
      "execution_count": null,
      "outputs": [
        {
          "output_type": "display_data",
          "data": {
            "text/plain": [
              "<Figure size 640x480 with 1 Axes>"
            ],
            "image/png": "[encoded data removed]"
          },
          "metadata": {}
        }
      ]
    },
    {
      "cell_type": "markdown",
      "source": [
        "## **My Comment on above Plot**\n",
        "---\n",
        "\n",
        "### The given data set shows neutral sentiments meaning that maximum number of tweets doesn't represents any sentiment or used neutral sentimental words. However, second highest percentage show positive sentiments that represents usage of good words and only 11.8% data reflects the negative or negative polarity"
      ],
      "metadata": {
        "id": "7cvX1GJ0CRGE"
      }
    },
    {
      "cell_type": "markdown",
      "source": [
        "What are the 10 most common words in each sentiment?"
      ],
      "metadata": {
        "id": "WWNoVHE1FLBp"
      }
    },
    {
      "cell_type": "code",
      "source": [
        "import nltk\n",
        "from nltk.probability import FreqDist\n",
        "from nltk.corpus import stopwords\n",
        "\n",
        "# Get stopwords\n",
        "stop_words = set(stopwords.words('english'))\n",
        "\n",
        "# Function to get the most common words from a text\n",
        "def get_most_common_words(text, n=10):\n",
        "    tokens = nltk.word_tokenize(text)\n",
        "    # Filter out stop words\n",
        "    tokens = [token for token in tokens if token.lower() not in stop_words]\n",
        "    fdist = FreqDist(tokens)\n",
        "    return fdist.most_common(n)\n",
        "\n",
        "# Group tweets by sentiment\n",
        "sentiment_groups = df.groupby('sentiment')\n",
        "\n",
        "# Loop through each sentiment and get the most common words\n",
        "for sentiment, group in sentiment_groups:\n",
        "    print('Sentiment:', sentiment)\n",
        "    tweets = ' '.join(group['tweet_cleaned'])\n",
        "    common_words = get_most_common_words(tweets)\n",
        "    print(common_words)\n",
        "    print()\n"
      ],
      "metadata": {
        "colab": {
          "base_uri": "https://localhost:8080/"
        },
        "id": "7LvzLcTVFh8m",
        "outputId": "feb97b8d-b8b3-486c-e3ce-d19dee9f378c"
      },
      "execution_count": null,
      "outputs": [
        {
          "output_type": "stream",
          "name": "stdout",
          "text": [
            "Sentiment: negative\n",
            "[('’', 117), ('amp', 88), ('Tesla', 31), ('year', 23), ('would', 19), ('“', 18), ('”', 18), ('time', 18), ('one', 17), ('people', 17)]\n",
            "\n",
            "Sentiment: neutral\n",
            "[('’', 119), ('Yes', 63), ('…', 47), ('amp', 43), ('Tesla', 40), ('Yeah', 31), ('year', 30), ('”', 26), ('Starlink', 26), ('time', 26)]\n",
            "\n",
            "Sentiment: positive\n",
            "[('’', 285), ('amp', 154), ('Tesla', 79), ('people', 64), ('many', 61), ('much', 60), ('good', 60), ('would', 58), ('time', 52), ('Twitter', 51)]\n",
            "\n"
          ]
        }
      ]
    }
  ]
}